{
 "cells": [
  {
   "cell_type": "code",
   "execution_count": 1,
   "id": "b7b876c8",
   "metadata": {},
   "outputs": [],
   "source": [
    "%load_ext autoreload\n",
    "\n",
    "from dotplots import Dotplot"
   ]
  },
  {
   "cell_type": "markdown",
   "id": "30f2ce95",
   "metadata": {},
   "source": [
    "## Data"
   ]
  },
  {
   "cell_type": "code",
   "execution_count": 13,
   "id": "c55f7c95",
   "metadata": {},
   "outputs": [],
   "source": [
    "sequences = [\n",
    "    ['c', 'c', 'a', 'b', 'd', 'f', 'e', 'f'], \n",
    "    ['f', 'd', 'c', 'd', 'a', 'b', 'f', 'e', 'e']\n",
    "]"
   ]
  },
  {
   "cell_type": "markdown",
   "id": "6dcebcaa",
   "metadata": {},
   "source": [
    "## Dotplots"
   ]
  },
  {
   "cell_type": "code",
   "execution_count": 14,
   "id": "6f37d196",
   "metadata": {},
   "outputs": [
    {
     "name": "stdout",
     "output_type": "stream",
     "text": [
      "self.sequence = ['c', 'c', 'a', 'b', 'd', 'f', 'e', 'f', 'f', 'd', 'c', 'd', 'a', 'b', 'f', 'e', 'e']\n",
      "self.boundaries = [(slice(0, 8, None), slice(8, 17, None))]\n"
     ]
    }
   ],
   "source": [
    "%autoreload\n",
    "\n",
    "dotplot = Dotplot(\n",
    "    sequences,\n",
    "    freq_threshold=0.1\n",
    ")"
   ]
  },
  {
   "cell_type": "code",
   "execution_count": 15,
   "id": "d9adbf61",
   "metadata": {
    "scrolled": true
   },
   "outputs": [
    {
     "name": "stdout",
     "output_type": "stream",
     "text": [
      "[[⚫ ⚫ None None None None None None None None ⚫ None None None None None\n",
      "  None]\n",
      " [None ⚫ None None None None None None None None ⚫ None None None None\n",
      "  None None]\n",
      " [None None ⚫ None None None None None None None None None ⚫ None None\n",
      "  None None]\n",
      " [None None None ⚫ None None None None None None None None None ⚫ None\n",
      "  None None]\n",
      " [None None None None ⚫ None None None None ⚫ None ⚫ None None None None\n",
      "  None]\n",
      " [None None None None None ⚫ None ⚫ ⚫ None None None None None ⚫ None\n",
      "  None]\n",
      " [None None None None None None ⚫ None None None None None None None None\n",
      "  ⚫ ⚫]\n",
      " [None None None None None None None ⚫ ⚫ None None None None None ⚫ None\n",
      "  None]\n",
      " [None None None None None None None None ⚫ None None None None None ⚫\n",
      "  None None]\n",
      " [None None None None None None None None None ⚫ None ⚫ None None None\n",
      "  None None]\n",
      " [None None None None None None None None None None ⚫ None None None None\n",
      "  None None]\n",
      " [None None None None None None None None None None None ⚫ None None None\n",
      "  None None]\n",
      " [None None None None None None None None None None None None ⚫ None None\n",
      "  None None]\n",
      " [None None None None None None None None None None None None None ⚫ None\n",
      "  None None]\n",
      " [None None None None None None None None None None None None None None ⚫\n",
      "  None None]\n",
      " [None None None None None None None None None None None None None None\n",
      "  None ⚫ ⚫]\n",
      " [None None None None None None None None None None None None None None\n",
      "  None None ⚫]]\n"
     ]
    }
   ],
   "source": [
    "print(dotplot)"
   ]
  },
  {
   "cell_type": "markdown",
   "id": "6bd7e341",
   "metadata": {},
   "source": [
    "## Linear Regression"
   ]
  },
  {
   "cell_type": "code",
   "execution_count": 21,
   "id": "28c81ef1",
   "metadata": {},
   "outputs": [
    {
     "name": "stdout",
     "output_type": "stream",
     "text": [
      "Boundary = (slice(0, 8, None), slice(8, 17, None))\n",
      "submatrix = [[None None ⚫ None None None None None None]\n",
      " [None None ⚫ None None None None None None]\n",
      " [None None None None ⚫ None None None None]\n",
      " [None None None None None ⚫ None None None]\n",
      " [None ⚫ None ⚫ None None None None None]\n",
      " [⚫ None None None None None ⚫ None None]\n",
      " [None None None None None None None ⚫ ⚫]\n",
      " [⚫ None None None None None ⚫ None None]]\n",
      "all dots = [⚫ ⚫ ⚫ ⚫ ⚫ ⚫ ⚫ ⚫ ⚫ ⚫ ⚫ ⚫]\n",
      "significant dots = [⚫, ⚫, ⚫, ⚫, ⚫, ⚫, ⚫, ⚫, ⚫, ⚫, ⚫, ⚫]\n",
      "x = [10 10 12 13  9 11  8 14 15 16  8 14]\n",
      "y = [0 1 2 3 4 4 5 5 6 6 7 7]\n",
      "r_squared = 0.08113462614208461\n"
     ]
    }
   ],
   "source": [
    "%autoreload\n",
    "\n",
    "dotplot.process()"
   ]
  },
  {
   "cell_type": "code",
   "execution_count": 22,
   "id": "9f6e4780",
   "metadata": {},
   "outputs": [
    {
     "data": {
      "text/plain": [
       "[]"
      ]
     },
     "execution_count": 22,
     "metadata": {},
     "output_type": "execute_result"
    }
   ],
   "source": [
    "dotplot.patterns"
   ]
  },
  {
   "cell_type": "code",
   "execution_count": null,
   "id": "b3198484",
   "metadata": {},
   "outputs": [],
   "source": []
  }
 ],
 "metadata": {
  "kernelspec": {
   "display_name": "Python 3",
   "language": "python",
   "name": "python3"
  },
  "language_info": {
   "codemirror_mode": {
    "name": "ipython",
    "version": 3
   },
   "file_extension": ".py",
   "mimetype": "text/x-python",
   "name": "python",
   "nbconvert_exporter": "python",
   "pygments_lexer": "ipython3",
   "version": "3.8.3"
  }
 },
 "nbformat": 4,
 "nbformat_minor": 5
}
