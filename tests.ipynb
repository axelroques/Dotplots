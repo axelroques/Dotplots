{
 "cells": [
  {
   "cell_type": "code",
   "execution_count": 1,
   "id": "3bcf5098",
   "metadata": {},
   "outputs": [],
   "source": [
    "%load_ext autoreload\n",
    "\n",
    "from dotplots import Dotplot"
   ]
  },
  {
   "cell_type": "markdown",
   "id": "70a7dc03",
   "metadata": {},
   "source": [
    "## Data"
   ]
  },
  {
   "cell_type": "code",
   "execution_count": 3,
   "id": "b8d3ccc0",
   "metadata": {},
   "outputs": [],
   "source": [
    "sequences = [\n",
    "    ['c', 'c', 'a', 'b', 'd', 'f', 'e', 'f'], \n",
    "    ['f', 'd', 'c', 'd', 'a', 'b', 'f', 'e', 'e']\n",
    "]"
   ]
  },
  {
   "cell_type": "markdown",
   "id": "defa4ea6",
   "metadata": {},
   "source": [
    "## Dotplots"
   ]
  },
  {
   "cell_type": "code",
   "execution_count": 13,
   "id": "48e716d3",
   "metadata": {},
   "outputs": [
    {
     "name": "stdout",
     "output_type": "stream",
     "text": [
      "self.sequence = ['c', 'c', 'a', 'b', 'd', 'f', 'e', 'f', 'f', 'd', 'c', 'd', 'a', 'b', 'f', 'e', 'e']\n",
      "self.boundaries = [(slice(0, 8, None), slice(8, 17, None))]\n"
     ]
    }
   ],
   "source": [
    "%autoreload\n",
    "\n",
    "dotplot = Dotplot(\n",
    "    sequences,\n",
    "    freq_threshold=0.1\n",
    ")"
   ]
  },
  {
   "cell_type": "code",
   "execution_count": 14,
   "id": "ea53dd6f",
   "metadata": {
    "scrolled": true
   },
   "outputs": [
    {
     "name": "stdout",
     "output_type": "stream",
     "text": [
      "[[⚫ ⚫ None None None None None None None None ⚫ None None None None None\n",
      "  None]\n",
      " [None ⚫ None None None None None None None None ⚫ None None None None\n",
      "  None None]\n",
      " [None None ⚫ None None None None None None None None None ⚫ None None\n",
      "  None None]\n",
      " [None None None ⚫ None None None None None None None None None ⚫ None\n",
      "  None None]\n",
      " [None None None None ⚫ None None None None ⚫ None ⚫ None None None None\n",
      "  None]\n",
      " [None None None None None ⚫ None ⚫ ⚫ None None None None None ⚫ None\n",
      "  None]\n",
      " [None None None None None None ⚫ None None None None None None None None\n",
      "  ⚫ ⚫]\n",
      " [None None None None None None None ⚫ ⚫ None None None None None ⚫ None\n",
      "  None]\n",
      " [None None None None None None None None ⚫ None None None None None ⚫\n",
      "  None None]\n",
      " [None None None None None None None None None ⚫ None ⚫ None None None\n",
      "  None None]\n",
      " [None None None None None None None None None None ⚫ None None None None\n",
      "  None None]\n",
      " [None None None None None None None None None None None ⚫ None None None\n",
      "  None None]\n",
      " [None None None None None None None None None None None None ⚫ None None\n",
      "  None None]\n",
      " [None None None None None None None None None None None None None ⚫ None\n",
      "  None None]\n",
      " [None None None None None None None None None None None None None None ⚫\n",
      "  None None]\n",
      " [None None None None None None None None None None None None None None\n",
      "  None ⚫ ⚫]\n",
      " [None None None None None None None None None None None None None None\n",
      "  None None ⚫]]\n"
     ]
    }
   ],
   "source": [
    "print(dotplot)"
   ]
  },
  {
   "cell_type": "code",
   "execution_count": null,
   "id": "a246558f",
   "metadata": {},
   "outputs": [],
   "source": []
  }
 ],
 "metadata": {
  "kernelspec": {
   "display_name": "Python 3",
   "language": "python",
   "name": "python3"
  },
  "language_info": {
   "codemirror_mode": {
    "name": "ipython",
    "version": 3
   },
   "file_extension": ".py",
   "mimetype": "text/x-python",
   "name": "python",
   "nbconvert_exporter": "python",
   "pygments_lexer": "ipython3",
   "version": "3.8.3"
  }
 },
 "nbformat": 4,
 "nbformat_minor": 5
}
